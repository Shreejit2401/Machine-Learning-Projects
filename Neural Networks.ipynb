{
  "nbformat": 4,
  "nbformat_minor": 0,
  "metadata": {
    "colab": {
      "name": "Major Project 2.ipynb",
      "provenance": [],
      "collapsed_sections": []
    },
    "kernelspec": {
      "name": "python3",
      "display_name": "Python 3"
    },
    "language_info": {
      "name": "python"
    },
    "accelerator": "GPU",
    "gpuClass": "standard"
  },
  "cells": [
    {
      "cell_type": "markdown",
      "source": [
        "#MAJOR PROJECT - 2\n",
        "https://www.kaggle.com/datasets/zalando-research/fashionmnist"
      ],
      "metadata": {
        "id": "_hqed9_ATyWN"
      }
    },
    {
      "cell_type": "markdown",
      "source": [
        "#Importing Libraries"
      ],
      "metadata": {
        "id": "V8Fno2k-9p-i"
      }
    },
    {
      "cell_type": "code",
      "execution_count": null,
      "metadata": {
        "id": "8k8pVsTS9bkQ"
      },
      "outputs": [],
      "source": [
        "import tensorflow as tf\n",
        "from tensorflow import keras"
      ]
    },
    {
      "cell_type": "markdown",
      "source": [
        "#Data Ingestion and Splitting Data"
      ],
      "metadata": {
        "id": "a9b7K0yP9x5a"
      }
    },
    {
      "cell_type": "code",
      "source": [
        "fashion_mnist=keras.datasets.fashion_mnist"
      ],
      "metadata": {
        "id": "0fwz-Lno-VEU"
      },
      "execution_count": null,
      "outputs": []
    },
    {
      "cell_type": "code",
      "source": [
        "(X_train,y_train),(X_test,y_test)=fashion_mnist.load_data()"
      ],
      "metadata": {
        "id": "_QRL5EYi-fqP"
      },
      "execution_count": null,
      "outputs": []
    },
    {
      "cell_type": "code",
      "source": [
        "X_train.shape"
      ],
      "metadata": {
        "colab": {
          "base_uri": "https://localhost:8080/"
        },
        "id": "Nuk5DE5_-iK_",
        "outputId": "99c4f541-58c5-459c-9357-d581f0c0b1c9"
      },
      "execution_count": null,
      "outputs": [
        {
          "output_type": "execute_result",
          "data": {
            "text/plain": [
              "(60000, 28, 28)"
            ]
          },
          "metadata": {},
          "execution_count": 19
        }
      ]
    },
    {
      "cell_type": "code",
      "source": [
        "X_test.shape"
      ],
      "metadata": {
        "colab": {
          "base_uri": "https://localhost:8080/"
        },
        "id": "PZ9ZccMP-1Sv",
        "outputId": "9aef9976-af87-4701-9efd-c52715580812"
      },
      "execution_count": null,
      "outputs": [
        {
          "output_type": "execute_result",
          "data": {
            "text/plain": [
              "(10000, 28, 28)"
            ]
          },
          "metadata": {},
          "execution_count": 20
        }
      ]
    },
    {
      "cell_type": "markdown",
      "source": [
        "#Visualising"
      ],
      "metadata": {
        "id": "9YJZBLgQ987Z"
      }
    },
    {
      "cell_type": "code",
      "source": [
        "import matplotlib.pyplot as plt\n",
        "i=350\n",
        "plt.imshow(X_train[i],cmap=\"gray\")\n",
        "plt.show()"
      ],
      "metadata": {
        "colab": {
          "base_uri": "https://localhost:8080/",
          "height": 265
        },
        "id": "1q3nsbWR-5Ih",
        "outputId": "9b4aa79b-7cf9-42b9-b597-901d16b3d405"
      },
      "execution_count": null,
      "outputs": [
        {
          "output_type": "display_data",
          "data": {
            "text/plain": [
              "<Figure size 432x288 with 1 Axes>"
            ],
            "image/png": "[encoded data removed]"
          },
          "metadata": {
            "needs_background": "light"
          }
        }
      ]
    },
    {
      "cell_type": "markdown",
      "source": [
        "#Data Preprocessing"
      ],
      "metadata": {
        "id": "XXOE5pQW-Cj2"
      }
    },
    {
      "cell_type": "code",
      "source": [
        "y_train[i]"
      ],
      "metadata": {
        "colab": {
          "base_uri": "https://localhost:8080/"
        },
        "id": "WwVsiY2t_Mny",
        "outputId": "008ece9b-37f4-46fd-d9ba-9ca56a0e01ba"
      },
      "execution_count": null,
      "outputs": [
        {
          "output_type": "execute_result",
          "data": {
            "text/plain": [
              "2"
            ]
          },
          "metadata": {},
          "execution_count": 22
        }
      ]
    },
    {
      "cell_type": "code",
      "source": [
        "X_train[i]"
      ],
      "metadata": {
        "colab": {
          "base_uri": "https://localhost:8080/"
        },
        "id": "kZg3f9XJ_SQp",
        "outputId": "418c5661-4313-44b5-df38-dfa5b32b6648"
      },
      "execution_count": null,
      "outputs": [
        {
          "output_type": "execute_result",
          "data": {
            "text/plain": [
              "array([[  0,   0,   0,   0,   0,   0,   0,   0,   0,   0,  71,  97,  57,\n",
              "         38,  48,  95, 118,  11,   0,   0,   0,   0,   0,   0,   0,   0,\n",
              "          0,   0],\n",
              "       [  0,   0,   0,   0,   0,   0,   0,   0, 176, 253, 225, 255, 227,\n",
              "        169, 248, 255, 235, 228, 228,  71,   0,   0,   0,   0,   0,   0,\n",
              "          0,   0],\n",
              "       [  0,   0,   0,   0,   2,   0,   0, 194, 245, 223, 221, 218, 221,\n",
              "        223, 217, 220, 221, 223, 230, 240,  64,   0,   2,   0,   0,   0,\n",
              "          0,   0],\n",
              "       [  0,   0,   0,   0,   3,   0,  79, 239, 214, 224, 226, 227, 227,\n",
              "        226, 225, 227, 226, 225, 216, 229, 204,   0,   0,   0,   0,   0,\n",
              "          0,   0],\n",
              "       [  0,   0,   0,   0,   0,   0, 164, 235, 220, 221, 227, 224, 225,\n",
              "        224, 223, 225, 226, 223, 222, 218, 220,   7,   0,   1,   0,   0,\n",
              "          0,   0],\n",
              "       [  0,   0,   0,   0,   0,   0, 224, 230, 225, 218, 226, 226, 226,\n",
              "        225, 224, 226, 225, 219, 221, 216, 232,  75,   0,   2,   0,   0,\n",
              "          0,   0],\n",
              "       [  0,   0,   0,   0,   0,   0, 210, 226, 232, 221, 222, 222, 222,\n",
              "        223, 223, 222, 223, 218, 219, 218, 236, 141,   0,   0,   0,   0,\n",
              "          0,   0],\n",
              "       [  0,   0,   0,   0,   0,  26, 228, 223, 236, 222, 219, 221, 221,\n",
              "        221, 221, 220, 220, 215, 216, 220, 230, 210,   0,   0,   0,   0,\n",
              "          0,   0],\n",
              "       [  0,   0,   0,   0,   0,  74, 235, 222, 240, 224, 220, 223, 222,\n",
              "        222, 221, 221, 219, 214, 220, 222, 224, 210,   0,   0,   0,   0,\n",
              "          0,   0],\n",
              "       [  0,   0,   0,   0,   0, 139, 235, 224, 244, 223, 222, 223, 223,\n",
              "        224, 222, 221, 219, 217, 220, 221, 221, 229,  38,   0,   0,   0,\n",
              "          0,   0],\n",
              "       [  0,   0,   0,   0,   0, 179, 232, 227, 246, 221, 223, 223, 224,\n",
              "        224, 222, 221, 220, 217, 219, 222, 219, 233,  79,   0,   0,   0,\n",
              "          0,   0],\n",
              "       [  0,   0,   0,   0,   0, 211, 229, 229, 246, 218, 225, 223, 225,\n",
              "        225, 223, 222, 222, 215, 221, 222, 221, 235, 136,   0,   0,   0,\n",
              "          0,   0],\n",
              "       [  0,   0,   0,   0,   0, 238, 225, 231, 250, 220, 227, 223, 225,\n",
              "        226, 225, 222, 222, 215, 220, 222, 223, 233, 171,   0,   0,   0,\n",
              "          0,   0],\n",
              "       [  0,   0,   0,   0,   0, 254, 223, 235, 240, 222, 227, 223, 225,\n",
              "        227, 226, 222, 222, 216, 219, 221, 223, 227, 212,   0,   0,   0,\n",
              "          0,   0],\n",
              "       [  0,   0,   0,   0,  16, 255, 223, 222, 196, 234, 225, 223, 224,\n",
              "        228, 227, 223, 224, 217, 217, 222, 223, 224, 237,   0,   0,   0,\n",
              "          0,   0],\n",
              "       [  0,   0,   0,   0,  51, 255, 225, 223, 213, 234, 225, 224, 225,\n",
              "        227, 228, 224, 225, 218, 222, 207, 230, 220, 249,   0,   0,   0,\n",
              "          0,   0],\n",
              "       [  0,   0,   0,   0,  72, 255, 227, 207, 208, 235, 224, 227, 227,\n",
              "        227, 230, 225, 224, 213, 244, 114, 215, 222, 219,  10,   0,   0,\n",
              "          0,   0],\n",
              "       [  0,   0,   0,   0,  78, 255, 230, 194, 195, 241, 224, 226, 227,\n",
              "        228, 231, 226, 226, 213, 255,  63, 175, 229, 223,  52,   0,   0,\n",
              "          0,   0],\n",
              "       [  0,   0,   0,   0,  90, 255, 233, 161, 180, 249, 222, 226, 227,\n",
              "        228, 232, 226, 225, 211, 255,  35, 130, 237, 224,  77,   0,   0,\n",
              "          0,   0],\n",
              "       [  0,   0,   0,   0, 106, 233, 239, 122, 161, 254, 220, 226, 226,\n",
              "        228, 233, 224, 225, 213, 255,  33,  89, 234, 223,  88,   0,   0,\n",
              "          0,   0],\n",
              "       [  0,   0,   0,   0, 104, 233, 240,  84, 137, 255, 219, 226, 226,\n",
              "        228, 234, 225, 225, 214, 255,  54,  44, 248, 238, 140,   0,   0,\n",
              "          0,   0],\n",
              "       [  0,   0,   0,   0, 117, 236, 241,  52, 106, 255, 216, 226, 226,\n",
              "        229, 235, 226, 226, 220, 255,  87,   0, 249, 162,  67,   0,   0,\n",
              "          0,   0],\n",
              "       [  0,   0,   0,   0, 129, 227, 255,  29,  87, 255, 221, 228, 227,\n",
              "        230, 237, 227, 228, 220, 233, 102,   0,   0,   0,   0,   0,   0,\n",
              "          0,   0],\n",
              "       [  0,   0,   0,   0,   0,   0,  18,   0,  87, 242, 220, 230, 227,\n",
              "        230, 237, 227, 227, 221, 233, 119,   0,   0,   0,   0,   0,   0,\n",
              "          0,   0],\n",
              "       [  0,   0,   0,   0,   0,   0,   0,   0,  88, 239, 221, 231, 228,\n",
              "        230, 237, 227, 226, 222, 232, 147,   0,   4,   1,   0,   0,   0,\n",
              "          0,   0],\n",
              "       [  0,   0,   0,   0,   1,   2,   7,   0,  64, 231, 222, 225, 225,\n",
              "        229, 233, 224, 226, 222, 233, 135,   0,   2,   0,   0,   0,   0,\n",
              "          0,   0],\n",
              "       [  0,   0,   0,   0,   0,   0,   2,   0,  34, 236, 232, 247, 245,\n",
              "        249, 248, 241, 244, 230, 237,  95,   0,   3,   0,   0,   0,   0,\n",
              "          0,   0],\n",
              "       [  0,   0,   0,   0,   0,   0,   4,   0,   0, 170, 188, 187, 178,\n",
              "        191, 205, 200, 188, 194, 204,  53,   0,   3,   0,   0,   0,   0,\n",
              "          0,   0]], dtype=uint8)"
            ]
          },
          "metadata": {},
          "execution_count": 23
        }
      ]
    },
    {
      "cell_type": "code",
      "source": [
        "X_train=X_train/255\n",
        "X_test=X_test/255"
      ],
      "metadata": {
        "id": "940XVzfO_vtV"
      },
      "execution_count": null,
      "outputs": []
    },
    {
      "cell_type": "code",
      "source": [
        "X_train[i]"
      ],
      "metadata": {
        "colab": {
          "base_uri": "https://localhost:8080/"
        },
        "id": "5yq86tJ1AcLK",
        "outputId": "95bb92ab-aff8-468c-88c9-0553f133c9b9"
      },
      "execution_count": null,
      "outputs": [
        {
          "output_type": "execute_result",
          "data": {
            "text/plain": [
              "array([[0.        , 0.        , 0.        , 0.        , 0.        ,\n",
              "        0.        , 0.        , 0.        , 0.        , 0.        ,\n",
              "        0.27843137, 0.38039216, 0.22352941, 0.14901961, 0.18823529,\n",
              "        0.37254902, 0.4627451 , 0.04313725, 0.        , 0.        ,\n",
              "        0.        , 0.        , 0.        , 0.        , 0.        ,\n",
              "        0.        , 0.        , 0.        ],\n",
              "       [0.        , 0.        , 0.        , 0.        , 0.        ,\n",
              "        0.        , 0.        , 0.        , 0.69019608, 0.99215686,\n",
              "        0.88235294, 1.        , 0.89019608, 0.6627451 , 0.97254902,\n",
              "        1.        , 0.92156863, 0.89411765, 0.89411765, 0.27843137,\n",
              "        0.        , 0.        , 0.        , 0.        , 0.        ,\n",
              "        0.        , 0.        , 0.        ],\n",
              "       [0.        , 0.        , 0.        , 0.        , 0.00784314,\n",
              "        0.        , 0.        , 0.76078431, 0.96078431, 0.8745098 ,\n",
              "        0.86666667, 0.85490196, 0.86666667, 0.8745098 , 0.85098039,\n",
              "        0.8627451 , 0.86666667, 0.8745098 , 0.90196078, 0.94117647,\n",
              "        0.25098039, 0.        , 0.00784314, 0.        , 0.        ,\n",
              "        0.        , 0.        , 0.        ],\n",
              "       [0.        , 0.        , 0.        , 0.        , 0.01176471,\n",
              "        0.        , 0.30980392, 0.9372549 , 0.83921569, 0.87843137,\n",
              "        0.88627451, 0.89019608, 0.89019608, 0.88627451, 0.88235294,\n",
              "        0.89019608, 0.88627451, 0.88235294, 0.84705882, 0.89803922,\n",
              "        0.8       , 0.        , 0.        , 0.        , 0.        ,\n",
              "        0.        , 0.        , 0.        ],\n",
              "       [0.        , 0.        , 0.        , 0.        , 0.        ,\n",
              "        0.        , 0.64313725, 0.92156863, 0.8627451 , 0.86666667,\n",
              "        0.89019608, 0.87843137, 0.88235294, 0.87843137, 0.8745098 ,\n",
              "        0.88235294, 0.88627451, 0.8745098 , 0.87058824, 0.85490196,\n",
              "        0.8627451 , 0.02745098, 0.        , 0.00392157, 0.        ,\n",
              "        0.        , 0.        , 0.        ],\n",
              "       [0.        , 0.        , 0.        , 0.        , 0.        ,\n",
              "        0.        , 0.87843137, 0.90196078, 0.88235294, 0.85490196,\n",
              "        0.88627451, 0.88627451, 0.88627451, 0.88235294, 0.87843137,\n",
              "        0.88627451, 0.88235294, 0.85882353, 0.86666667, 0.84705882,\n",
              "        0.90980392, 0.29411765, 0.        , 0.00784314, 0.        ,\n",
              "        0.        , 0.        , 0.        ],\n",
              "       [0.        , 0.        , 0.        , 0.        , 0.        ,\n",
              "        0.        , 0.82352941, 0.88627451, 0.90980392, 0.86666667,\n",
              "        0.87058824, 0.87058824, 0.87058824, 0.8745098 , 0.8745098 ,\n",
              "        0.87058824, 0.8745098 , 0.85490196, 0.85882353, 0.85490196,\n",
              "        0.9254902 , 0.55294118, 0.        , 0.        , 0.        ,\n",
              "        0.        , 0.        , 0.        ],\n",
              "       [0.        , 0.        , 0.        , 0.        , 0.        ,\n",
              "        0.10196078, 0.89411765, 0.8745098 , 0.9254902 , 0.87058824,\n",
              "        0.85882353, 0.86666667, 0.86666667, 0.86666667, 0.86666667,\n",
              "        0.8627451 , 0.8627451 , 0.84313725, 0.84705882, 0.8627451 ,\n",
              "        0.90196078, 0.82352941, 0.        , 0.        , 0.        ,\n",
              "        0.        , 0.        , 0.        ],\n",
              "       [0.        , 0.        , 0.        , 0.        , 0.        ,\n",
              "        0.29019608, 0.92156863, 0.87058824, 0.94117647, 0.87843137,\n",
              "        0.8627451 , 0.8745098 , 0.87058824, 0.87058824, 0.86666667,\n",
              "        0.86666667, 0.85882353, 0.83921569, 0.8627451 , 0.87058824,\n",
              "        0.87843137, 0.82352941, 0.        , 0.        , 0.        ,\n",
              "        0.        , 0.        , 0.        ],\n",
              "       [0.        , 0.        , 0.        , 0.        , 0.        ,\n",
              "        0.54509804, 0.92156863, 0.87843137, 0.95686275, 0.8745098 ,\n",
              "        0.87058824, 0.8745098 , 0.8745098 , 0.87843137, 0.87058824,\n",
              "        0.86666667, 0.85882353, 0.85098039, 0.8627451 , 0.86666667,\n",
              "        0.86666667, 0.89803922, 0.14901961, 0.        , 0.        ,\n",
              "        0.        , 0.        , 0.        ],\n",
              "       [0.        , 0.        , 0.        , 0.        , 0.        ,\n",
              "        0.70196078, 0.90980392, 0.89019608, 0.96470588, 0.86666667,\n",
              "        0.8745098 , 0.8745098 , 0.87843137, 0.87843137, 0.87058824,\n",
              "        0.86666667, 0.8627451 , 0.85098039, 0.85882353, 0.87058824,\n",
              "        0.85882353, 0.91372549, 0.30980392, 0.        , 0.        ,\n",
              "        0.        , 0.        , 0.        ],\n",
              "       [0.        , 0.        , 0.        , 0.        , 0.        ,\n",
              "        0.82745098, 0.89803922, 0.89803922, 0.96470588, 0.85490196,\n",
              "        0.88235294, 0.8745098 , 0.88235294, 0.88235294, 0.8745098 ,\n",
              "        0.87058824, 0.87058824, 0.84313725, 0.86666667, 0.87058824,\n",
              "        0.86666667, 0.92156863, 0.53333333, 0.        , 0.        ,\n",
              "        0.        , 0.        , 0.        ],\n",
              "       [0.        , 0.        , 0.        , 0.        , 0.        ,\n",
              "        0.93333333, 0.88235294, 0.90588235, 0.98039216, 0.8627451 ,\n",
              "        0.89019608, 0.8745098 , 0.88235294, 0.88627451, 0.88235294,\n",
              "        0.87058824, 0.87058824, 0.84313725, 0.8627451 , 0.87058824,\n",
              "        0.8745098 , 0.91372549, 0.67058824, 0.        , 0.        ,\n",
              "        0.        , 0.        , 0.        ],\n",
              "       [0.        , 0.        , 0.        , 0.        , 0.        ,\n",
              "        0.99607843, 0.8745098 , 0.92156863, 0.94117647, 0.87058824,\n",
              "        0.89019608, 0.8745098 , 0.88235294, 0.89019608, 0.88627451,\n",
              "        0.87058824, 0.87058824, 0.84705882, 0.85882353, 0.86666667,\n",
              "        0.8745098 , 0.89019608, 0.83137255, 0.        , 0.        ,\n",
              "        0.        , 0.        , 0.        ],\n",
              "       [0.        , 0.        , 0.        , 0.        , 0.0627451 ,\n",
              "        1.        , 0.8745098 , 0.87058824, 0.76862745, 0.91764706,\n",
              "        0.88235294, 0.8745098 , 0.87843137, 0.89411765, 0.89019608,\n",
              "        0.8745098 , 0.87843137, 0.85098039, 0.85098039, 0.87058824,\n",
              "        0.8745098 , 0.87843137, 0.92941176, 0.        , 0.        ,\n",
              "        0.        , 0.        , 0.        ],\n",
              "       [0.        , 0.        , 0.        , 0.        , 0.2       ,\n",
              "        1.        , 0.88235294, 0.8745098 , 0.83529412, 0.91764706,\n",
              "        0.88235294, 0.87843137, 0.88235294, 0.89019608, 0.89411765,\n",
              "        0.87843137, 0.88235294, 0.85490196, 0.87058824, 0.81176471,\n",
              "        0.90196078, 0.8627451 , 0.97647059, 0.        , 0.        ,\n",
              "        0.        , 0.        , 0.        ],\n",
              "       [0.        , 0.        , 0.        , 0.        , 0.28235294,\n",
              "        1.        , 0.89019608, 0.81176471, 0.81568627, 0.92156863,\n",
              "        0.87843137, 0.89019608, 0.89019608, 0.89019608, 0.90196078,\n",
              "        0.88235294, 0.87843137, 0.83529412, 0.95686275, 0.44705882,\n",
              "        0.84313725, 0.87058824, 0.85882353, 0.03921569, 0.        ,\n",
              "        0.        , 0.        , 0.        ],\n",
              "       [0.        , 0.        , 0.        , 0.        , 0.30588235,\n",
              "        1.        , 0.90196078, 0.76078431, 0.76470588, 0.94509804,\n",
              "        0.87843137, 0.88627451, 0.89019608, 0.89411765, 0.90588235,\n",
              "        0.88627451, 0.88627451, 0.83529412, 1.        , 0.24705882,\n",
              "        0.68627451, 0.89803922, 0.8745098 , 0.20392157, 0.        ,\n",
              "        0.        , 0.        , 0.        ],\n",
              "       [0.        , 0.        , 0.        , 0.        , 0.35294118,\n",
              "        1.        , 0.91372549, 0.63137255, 0.70588235, 0.97647059,\n",
              "        0.87058824, 0.88627451, 0.89019608, 0.89411765, 0.90980392,\n",
              "        0.88627451, 0.88235294, 0.82745098, 1.        , 0.1372549 ,\n",
              "        0.50980392, 0.92941176, 0.87843137, 0.30196078, 0.        ,\n",
              "        0.        , 0.        , 0.        ],\n",
              "       [0.        , 0.        , 0.        , 0.        , 0.41568627,\n",
              "        0.91372549, 0.9372549 , 0.47843137, 0.63137255, 0.99607843,\n",
              "        0.8627451 , 0.88627451, 0.88627451, 0.89411765, 0.91372549,\n",
              "        0.87843137, 0.88235294, 0.83529412, 1.        , 0.12941176,\n",
              "        0.34901961, 0.91764706, 0.8745098 , 0.34509804, 0.        ,\n",
              "        0.        , 0.        , 0.        ],\n",
              "       [0.        , 0.        , 0.        , 0.        , 0.40784314,\n",
              "        0.91372549, 0.94117647, 0.32941176, 0.5372549 , 1.        ,\n",
              "        0.85882353, 0.88627451, 0.88627451, 0.89411765, 0.91764706,\n",
              "        0.88235294, 0.88235294, 0.83921569, 1.        , 0.21176471,\n",
              "        0.17254902, 0.97254902, 0.93333333, 0.54901961, 0.        ,\n",
              "        0.        , 0.        , 0.        ],\n",
              "       [0.        , 0.        , 0.        , 0.        , 0.45882353,\n",
              "        0.9254902 , 0.94509804, 0.20392157, 0.41568627, 1.        ,\n",
              "        0.84705882, 0.88627451, 0.88627451, 0.89803922, 0.92156863,\n",
              "        0.88627451, 0.88627451, 0.8627451 , 1.        , 0.34117647,\n",
              "        0.        , 0.97647059, 0.63529412, 0.2627451 , 0.        ,\n",
              "        0.        , 0.        , 0.        ],\n",
              "       [0.        , 0.        , 0.        , 0.        , 0.50588235,\n",
              "        0.89019608, 1.        , 0.11372549, 0.34117647, 1.        ,\n",
              "        0.86666667, 0.89411765, 0.89019608, 0.90196078, 0.92941176,\n",
              "        0.89019608, 0.89411765, 0.8627451 , 0.91372549, 0.4       ,\n",
              "        0.        , 0.        , 0.        , 0.        , 0.        ,\n",
              "        0.        , 0.        , 0.        ],\n",
              "       [0.        , 0.        , 0.        , 0.        , 0.        ,\n",
              "        0.        , 0.07058824, 0.        , 0.34117647, 0.94901961,\n",
              "        0.8627451 , 0.90196078, 0.89019608, 0.90196078, 0.92941176,\n",
              "        0.89019608, 0.89019608, 0.86666667, 0.91372549, 0.46666667,\n",
              "        0.        , 0.        , 0.        , 0.        , 0.        ,\n",
              "        0.        , 0.        , 0.        ],\n",
              "       [0.        , 0.        , 0.        , 0.        , 0.        ,\n",
              "        0.        , 0.        , 0.        , 0.34509804, 0.9372549 ,\n",
              "        0.86666667, 0.90588235, 0.89411765, 0.90196078, 0.92941176,\n",
              "        0.89019608, 0.88627451, 0.87058824, 0.90980392, 0.57647059,\n",
              "        0.        , 0.01568627, 0.00392157, 0.        , 0.        ,\n",
              "        0.        , 0.        , 0.        ],\n",
              "       [0.        , 0.        , 0.        , 0.        , 0.00392157,\n",
              "        0.00784314, 0.02745098, 0.        , 0.25098039, 0.90588235,\n",
              "        0.87058824, 0.88235294, 0.88235294, 0.89803922, 0.91372549,\n",
              "        0.87843137, 0.88627451, 0.87058824, 0.91372549, 0.52941176,\n",
              "        0.        , 0.00784314, 0.        , 0.        , 0.        ,\n",
              "        0.        , 0.        , 0.        ],\n",
              "       [0.        , 0.        , 0.        , 0.        , 0.        ,\n",
              "        0.        , 0.00784314, 0.        , 0.13333333, 0.9254902 ,\n",
              "        0.90980392, 0.96862745, 0.96078431, 0.97647059, 0.97254902,\n",
              "        0.94509804, 0.95686275, 0.90196078, 0.92941176, 0.37254902,\n",
              "        0.        , 0.01176471, 0.        , 0.        , 0.        ,\n",
              "        0.        , 0.        , 0.        ],\n",
              "       [0.        , 0.        , 0.        , 0.        , 0.        ,\n",
              "        0.        , 0.01568627, 0.        , 0.        , 0.66666667,\n",
              "        0.7372549 , 0.73333333, 0.69803922, 0.74901961, 0.80392157,\n",
              "        0.78431373, 0.7372549 , 0.76078431, 0.8       , 0.20784314,\n",
              "        0.        , 0.01176471, 0.        , 0.        , 0.        ,\n",
              "        0.        , 0.        , 0.        ]])"
            ]
          },
          "metadata": {},
          "execution_count": 25
        }
      ]
    },
    {
      "cell_type": "markdown",
      "source": [
        "#Modelling"
      ],
      "metadata": {
        "id": "kcAPsUP9-2_B"
      }
    },
    {
      "cell_type": "markdown",
      "source": [
        "#ANN MODEL"
      ],
      "metadata": {
        "id": "xA-le5ee_Eay"
      }
    },
    {
      "cell_type": "code",
      "source": [
        "model=keras.models.Sequential()\n",
        "model.add(keras.layers.Flatten()) # input layer which is flattened to 784 nuerons ie. 28x28\n",
        "model.add(keras.layers.Dense(512,input_shape=(28,28),activation='relu')) # hidden layer where 512\n",
        "model.add(keras.layers.Dense(10,activation='softmax')) # output layer"
      ],
      "metadata": {
        "id": "z9moPkRsAlqQ"
      },
      "execution_count": null,
      "outputs": []
    },
    {
      "cell_type": "markdown",
      "source": [
        "softmax because more than one attribute is present"
      ],
      "metadata": {
        "id": "r3-truwTCNRw"
      }
    },
    {
      "cell_type": "code",
      "source": [
        "model.compile(optimizer='adam',loss='sparse_categorical_crossentropy',metrics=['accuracy'])"
      ],
      "metadata": {
        "id": "8gQlORUfA5Pi"
      },
      "execution_count": null,
      "outputs": []
    },
    {
      "cell_type": "code",
      "source": [
        "history=model.fit(X_train,y_train,epochs=15)"
      ],
      "metadata": {
        "colab": {
          "base_uri": "https://localhost:8080/"
        },
        "id": "623zGHXHClN-",
        "outputId": "e9196deb-8794-42a2-fde4-4f3ccf633d06"
      },
      "execution_count": null,
      "outputs": [
        {
          "output_type": "stream",
          "name": "stdout",
          "text": [
            "Epoch 1/15\n",
            "1875/1875 [==============================] - 5s 2ms/step - loss: 0.4743 - accuracy: 0.8289\n",
            "Epoch 2/15\n",
            "1875/1875 [==============================] - 4s 2ms/step - loss: 0.3581 - accuracy: 0.8686\n",
            "Epoch 3/15\n",
            "1875/1875 [==============================] - 4s 2ms/step - loss: 0.3214 - accuracy: 0.8813\n",
            "Epoch 4/15\n",
            "1875/1875 [==============================] - 4s 2ms/step - loss: 0.2962 - accuracy: 0.8902\n",
            "Epoch 5/15\n",
            "1875/1875 [==============================] - 4s 2ms/step - loss: 0.2802 - accuracy: 0.8967\n",
            "Epoch 6/15\n",
            "1875/1875 [==============================] - 4s 2ms/step - loss: 0.2654 - accuracy: 0.9021\n",
            "Epoch 7/15\n",
            "1875/1875 [==============================] - 4s 2ms/step - loss: 0.2517 - accuracy: 0.9058\n",
            "Epoch 8/15\n",
            "1875/1875 [==============================] - 5s 3ms/step - loss: 0.2414 - accuracy: 0.9095\n",
            "Epoch 9/15\n",
            "1875/1875 [==============================] - 4s 2ms/step - loss: 0.2305 - accuracy: 0.9132\n",
            "Epoch 10/15\n",
            "1875/1875 [==============================] - 4s 2ms/step - loss: 0.2218 - accuracy: 0.9167\n",
            "Epoch 11/15\n",
            "1875/1875 [==============================] - 4s 2ms/step - loss: 0.2143 - accuracy: 0.9196\n",
            "Epoch 12/15\n",
            "1875/1875 [==============================] - 4s 2ms/step - loss: 0.2066 - accuracy: 0.9222\n",
            "Epoch 13/15\n",
            "1875/1875 [==============================] - 4s 2ms/step - loss: 0.2006 - accuracy: 0.9248\n",
            "Epoch 14/15\n",
            "1875/1875 [==============================] - 4s 2ms/step - loss: 0.1921 - accuracy: 0.9272\n",
            "Epoch 15/15\n",
            "1875/1875 [==============================] - 4s 2ms/step - loss: 0.1858 - accuracy: 0.9289\n"
          ]
        }
      ]
    },
    {
      "cell_type": "markdown",
      "source": [
        "epochs is number of times we need to run the data through the model"
      ],
      "metadata": {
        "id": "Q0wFmFnjC__f"
      }
    },
    {
      "cell_type": "code",
      "source": [
        "model.get_weights()"
      ],
      "metadata": {
        "colab": {
          "base_uri": "https://localhost:8080/"
        },
        "id": "BQjsXtJaCton",
        "outputId": "d377562d-dade-4347-f7f9-1ce27e57e617"
      },
      "execution_count": null,
      "outputs": [
        {
          "output_type": "execute_result",
          "data": {
            "text/plain": [
              "[array([[ 3.53553123e-03, -5.97501025e-02,  4.87847179e-02, ...,\n",
              "          1.01651169e-01, -3.60976867e-02,  6.65578544e-02],\n",
              "        [-1.88137308e-01,  5.82133010e-02,  3.26841697e-02, ...,\n",
              "          1.08816355e-01, -5.74314296e-02,  3.25906910e-02],\n",
              "        [ 1.58027381e-01, -1.46730011e-02, -3.53191420e-02, ...,\n",
              "         -3.19024958e-02, -1.17658824e-03,  1.49429921e-04],\n",
              "        ...,\n",
              "        [ 7.48614445e-02, -1.26645640e-01, -6.24806993e-02, ...,\n",
              "          5.08172512e-02,  6.24886304e-02, -1.33099154e-01],\n",
              "        [ 1.86452538e-01, -9.95556787e-02,  3.06102037e-02, ...,\n",
              "          4.01090235e-01,  2.00737081e-02, -3.72382849e-02],\n",
              "        [ 1.89038604e-01, -3.92449200e-02, -3.69910486e-02, ...,\n",
              "          8.97132754e-02, -2.19816640e-02, -7.84488842e-02]], dtype=float32),\n",
              " array([ 2.80500472e-01,  3.14398706e-01, -2.17076782e-02, -2.63747901e-01,\n",
              "         6.12741522e-02,  5.24224579e-01,  2.83258528e-01,  9.60796550e-02,\n",
              "         3.48001450e-01,  1.34866968e-01,  7.65610039e-02,  4.18240905e-01,\n",
              "        -1.50961131e-02,  2.22273842e-01,  3.88101965e-01, -1.91918407e-02,\n",
              "        -1.50300926e-02, -1.38188116e-02,  6.42088115e-01,  2.47020796e-01,\n",
              "         4.15880829e-01,  6.37486637e-01,  6.33931994e-01, -1.98450293e-02,\n",
              "         5.90907693e-01, -2.06651539e-02,  8.74929011e-01,  3.04525942e-01,\n",
              "        -8.31237733e-02,  1.91751868e-01, -4.91598919e-02,  1.46299854e-01,\n",
              "         2.58371830e-01,  2.21851647e-01,  2.65720695e-01,  1.83098271e-01,\n",
              "         1.77408665e-01,  2.09797427e-01, -1.80379689e-01,  4.39652562e-01,\n",
              "         2.31752262e-01,  2.30979562e-01,  1.93398088e-01, -1.66769013e-01,\n",
              "         3.48164827e-01,  7.29939997e-01,  4.22946244e-01,  1.06464885e-01,\n",
              "        -1.10405162e-01, -1.62497535e-01,  3.33495263e-04,  2.62748867e-01,\n",
              "         5.59481885e-03,  1.56959123e-03,  2.28694648e-01,  3.89628708e-01,\n",
              "         4.84362513e-01,  4.72293288e-01,  1.07447885e-01,  4.48563635e-01,\n",
              "         2.87898511e-01, -4.79756817e-02,  2.05105484e-01,  6.24993742e-01,\n",
              "         6.86787963e-01,  5.10038435e-01, -4.45141383e-02,  1.72085334e-02,\n",
              "         1.08583935e-01, -8.15069750e-02,  3.52977514e-01,  5.79431932e-03,\n",
              "         3.79873753e-01,  4.85047340e-01,  5.07698059e-01,  3.44673902e-01,\n",
              "         6.60121858e-01,  3.24325174e-01,  4.14809078e-01,  4.17932183e-01,\n",
              "         1.05887048e-01,  2.60614783e-01,  1.93000659e-01, -2.92957332e-02,\n",
              "         1.02884419e-01,  6.53932095e-01,  3.51883262e-01,  3.80719662e-01,\n",
              "         1.30115286e-01,  8.26261565e-02, -1.05205970e-03, -2.88047671e-01,\n",
              "         3.04453760e-01,  2.50249356e-01,  4.17478412e-01,  1.80449933e-01,\n",
              "         1.62882850e-01, -1.59483477e-01,  1.39172198e-02,  3.64055872e-01,\n",
              "        -1.61581505e-02, -7.31014414e-03,  3.15703243e-01, -3.61124724e-01,\n",
              "        -7.54437549e-03,  4.36080486e-01,  1.79704756e-01,  6.10826984e-02,\n",
              "         2.00309306e-02,  1.67747453e-01, -5.66990852e-01,  1.54831022e-01,\n",
              "        -8.31579491e-02,  1.72665477e-01, -1.31332669e-02,  5.61615348e-01,\n",
              "        -7.24823177e-02,  3.42578679e-01,  1.04052149e-01,  1.14181191e-01,\n",
              "         2.44846866e-01,  6.49763504e-03,  1.50554821e-01, -5.74006915e-01,\n",
              "         7.02299410e-03,  2.18657240e-01, -2.55924106e-01,  2.62766212e-01,\n",
              "         2.51171231e-01, -3.88175882e-02,  1.11707069e-01,  2.40221605e-01,\n",
              "        -3.48990224e-02,  1.41821235e-01,  4.47582662e-01,  2.65063405e-01,\n",
              "         3.39126199e-01,  3.86078626e-01,  5.41053176e-01, -5.42219654e-02,\n",
              "         3.77274692e-01,  3.54187787e-01, -2.35153064e-01, -1.96950920e-02,\n",
              "        -4.64724824e-02, -1.04812786e-01,  1.55470282e-01,  3.28003854e-01,\n",
              "         2.80517936e-01,  2.08080277e-01,  2.75970340e-01,  2.40217760e-01,\n",
              "         4.48366523e-01,  2.52798110e-01, -3.02717686e-01, -1.38164744e-01,\n",
              "         2.15697154e-01,  6.65207565e-01,  4.30332690e-01,  9.29202214e-02,\n",
              "         1.93843573e-01,  2.71074951e-01,  1.27487183e-01,  6.28600121e-01,\n",
              "        -2.13183574e-02,  3.34743649e-01, -8.92370120e-02, -1.19122729e-01,\n",
              "        -4.88272533e-02,  2.37362713e-01, -1.53324470e-01,  4.54861343e-01,\n",
              "        -2.37879679e-02,  2.98409909e-01,  4.85815376e-01,  1.17408425e-01,\n",
              "        -1.05295908e-02, -1.10006265e-01,  4.18909252e-01, -1.19302534e-02,\n",
              "         3.59016776e-01,  1.04787447e-01, -2.32052997e-01,  3.22718769e-01,\n",
              "         3.18922400e-01,  1.91804215e-01,  2.76726842e-01,  1.10987566e-01,\n",
              "         8.07815313e-01,  4.04960722e-01,  6.34729415e-02, -8.88883416e-03,\n",
              "        -1.37729317e-01,  2.40122706e-01,  1.46356625e-02,  1.82540759e-01,\n",
              "         2.41117403e-01,  1.54573977e-01,  4.24117565e-01,  2.30245084e-01,\n",
              "         1.28228351e-01,  4.70135719e-01,  4.56205755e-01, -1.12622902e-02,\n",
              "        -2.77171973e-02, -1.05304997e-02,  1.44292191e-01,  1.75008297e-01,\n",
              "         2.60475814e-01,  1.75092712e-01, -8.08293894e-02,  1.31047741e-01,\n",
              "        -3.37109454e-02,  3.43805581e-01,  4.46492821e-01,  4.53654200e-01,\n",
              "         6.04757890e-02, -2.26738211e-02,  1.48928478e-01,  1.13298073e-01,\n",
              "         2.38212779e-01,  1.71320394e-01,  4.10406530e-01, -6.95585757e-02,\n",
              "        -1.19210787e-01,  3.16142410e-01, -2.47399565e-02, -1.00468891e-02,\n",
              "         3.15355718e-01, -1.04583390e-02,  5.06084859e-01, -2.08690520e-02,\n",
              "        -5.09491423e-04,  3.75925481e-01, -3.69058400e-01,  5.57333112e-01,\n",
              "        -9.57909133e-03,  1.32448524e-01, -2.25774646e-01,  6.86831623e-02,\n",
              "         2.75136381e-01,  1.17375650e-01, -9.11986232e-02,  2.04495609e-01,\n",
              "         4.84105945e-02,  3.20490777e-01, -1.48725705e-02,  3.81908357e-01,\n",
              "         3.78414690e-01, -2.23791227e-01, -1.10061206e-02,  6.24800920e-01,\n",
              "        -4.45417166e-02,  5.08714259e-01,  7.69081265e-02, -1.43384203e-01,\n",
              "         1.70051590e-01,  2.12652624e-01,  2.82224119e-01,  1.72365904e-01,\n",
              "         4.21794355e-01,  1.76580384e-01,  6.86958656e-02,  2.97085583e-01,\n",
              "         5.01054704e-01,  1.48845688e-01, -8.62158649e-03, -3.95322926e-02,\n",
              "         2.54118383e-01,  8.04426000e-02,  9.66172516e-02, -6.59101680e-02,\n",
              "         3.80888253e-01,  1.13785692e-01, -1.10902622e-01, -1.83681473e-02,\n",
              "        -8.45758468e-02,  1.09726086e-01, -6.70335352e-01,  5.96909344e-01,\n",
              "         1.63923465e-02,  4.65388596e-01,  1.81129947e-01, -4.58816215e-02,\n",
              "        -2.84472585e-01, -2.37464264e-01,  2.41280764e-01,  5.29644778e-03,\n",
              "         9.91489515e-02,  5.63281365e-02, -6.27162978e-02,  2.07005098e-01,\n",
              "         4.07169253e-01,  2.64086306e-01,  2.86535501e-01, -1.36609375e-02,\n",
              "         2.27779448e-01,  2.90597439e-01,  3.56034636e-02,  2.45635420e-01,\n",
              "        -1.91562343e-02, -2.37363026e-01, -1.88647062e-01,  1.18787929e-01,\n",
              "        -2.52411753e-01,  2.04590365e-01, -1.22667225e-02,  7.54756093e-01,\n",
              "         7.38897026e-02,  8.53935555e-02, -1.74100455e-02, -2.74706129e-02,\n",
              "        -1.37872174e-01,  2.33553097e-01,  4.65145260e-01,  4.13944758e-02,\n",
              "         4.11046237e-01,  5.70358276e-01,  2.49124348e-01,  4.26594615e-01,\n",
              "         1.49041742e-01,  4.25401777e-02, -2.38751080e-02,  1.50589660e-01,\n",
              "         4.31187063e-01,  5.22387445e-01,  7.93366432e-02,  2.21101716e-01,\n",
              "         8.22005272e-02,  3.33553910e-01,  1.21772744e-01,  4.79167044e-01,\n",
              "         8.89378965e-01,  5.15831411e-01,  2.17690036e-01, -6.66224062e-02,\n",
              "        -4.25814420e-01,  2.52734393e-01,  3.45278591e-01,  2.17371002e-01,\n",
              "         1.58480316e-01, -5.14175415e-01, -3.73223834e-02,  1.89117372e-01,\n",
              "         7.14586899e-02,  4.05228138e-01,  4.83168632e-01,  3.86697143e-01,\n",
              "        -2.05502748e-01, -1.49813384e-01,  5.09371102e-01, -3.16330791e-02,\n",
              "         2.61539370e-01,  6.75281137e-02, -2.39647105e-02,  3.22714359e-01,\n",
              "         2.93668300e-01, -2.25564521e-02, -1.08291768e-01, -5.00951298e-02,\n",
              "         1.91794962e-01,  4.24076337e-03, -3.32026854e-02,  3.74068439e-01,\n",
              "        -1.06915399e-01,  3.11070263e-01,  2.51123250e-01,  3.27677101e-01,\n",
              "         3.76067241e-03, -1.43338457e-01,  2.93265611e-01,  5.19291282e-01,\n",
              "         2.16337696e-01,  3.05347621e-01,  2.21843481e-01,  5.54557107e-02,\n",
              "        -7.38438591e-02,  6.51633888e-02, -1.05983531e-03,  1.99623853e-01,\n",
              "         7.96302408e-02,  4.14900005e-01, -2.16198698e-01,  1.55289084e-01,\n",
              "         3.63918483e-01,  3.28777164e-01,  1.14399001e-01,  2.40097865e-01,\n",
              "         2.36973807e-01,  1.30231544e-01, -1.69561923e-01,  8.04452971e-02,\n",
              "        -1.38459787e-01,  2.20110238e-01, -3.25438380e-02,  6.77693427e-01,\n",
              "         1.94137916e-01,  5.77545899e-04,  6.29592419e-01, -8.95892307e-02,\n",
              "        -2.82656029e-02, -2.46057324e-02,  4.99709249e-01,  3.93379509e-01,\n",
              "         1.54707491e-01,  1.31025329e-01,  2.98337061e-02, -4.12738860e-01,\n",
              "        -1.44202858e-02,  3.35317612e-01,  1.02355592e-01,  1.17134415e-01,\n",
              "         1.79465652e-01,  3.18341851e-01, -1.06186094e-02,  3.43429297e-02,\n",
              "         5.11559844e-02,  7.52714500e-02,  2.14832827e-01,  1.14959508e-01,\n",
              "        -4.39144559e-02,  2.28612527e-01,  1.26678064e-01, -4.53509361e-01,\n",
              "         2.72224814e-01,  2.69144565e-01, -2.93508351e-01,  2.47214213e-01,\n",
              "         6.03190064e-01,  1.28142804e-01,  4.04336676e-02,  2.09479421e-01,\n",
              "         3.10993399e-02, -1.24921743e-02,  7.09045351e-01,  6.68997914e-02,\n",
              "         4.33540106e-01,  4.73274440e-01,  2.50921160e-01, -3.11268300e-01,\n",
              "        -3.81670636e-03,  4.73445654e-01,  8.02448988e-02, -1.53214857e-02,\n",
              "        -1.31997643e-02,  7.64410421e-02,  6.41743720e-01, -3.05645078e-01,\n",
              "         3.07316631e-01,  6.49411738e-01, -2.18678787e-01,  9.73218828e-02,\n",
              "        -2.01087706e-02,  1.54973254e-01,  1.46491736e-01,  1.18511170e-01,\n",
              "         8.27477798e-02, -2.00124830e-01,  4.05308068e-01, -3.92868072e-01,\n",
              "         1.22493915e-01,  3.25915277e-01,  3.19060564e-01,  5.80462098e-01,\n",
              "        -7.29966955e-03, -1.39347753e-02,  6.66785687e-02, -2.91754216e-01,\n",
              "         3.22223276e-01, -9.92246345e-02, -1.16133410e-02,  5.95074520e-02,\n",
              "         2.56819576e-01,  4.48312461e-01,  3.64974141e-02,  3.17950994e-01,\n",
              "        -2.59306617e-02,  9.81008559e-02, -1.74831245e-02,  4.86033827e-01,\n",
              "         3.39839697e-01, -2.48855408e-02,  6.96904957e-02,  1.83469266e-01,\n",
              "         7.14655295e-02,  8.26200619e-02,  1.71046838e-01, -1.04319587e-01,\n",
              "         3.40054452e-01,  2.81810343e-01,  5.83241209e-02,  1.89773247e-01,\n",
              "        -1.53986653e-02, -9.07355547e-02,  5.81948236e-02,  8.00822824e-02,\n",
              "         4.49922591e-01,  6.07081652e-01, -1.76476836e-02,  2.29263186e-01,\n",
              "         2.73341686e-01,  1.51751876e-01,  1.86359975e-03, -1.44000510e-02,\n",
              "        -2.70528402e-02, -1.31993994e-01, -3.88610363e-01,  3.35996360e-01,\n",
              "        -5.87278791e-02,  1.30109772e-01, -4.31330912e-02,  6.99363947e-01],\n",
              "       dtype=float32),\n",
              " array([[ 0.1704296 ,  0.02333361, -0.20339088, ..., -0.09862458,\n",
              "         -0.43883216, -0.17631629],\n",
              "        [-0.17980486,  0.13109946, -0.16945395, ..., -0.11760646,\n",
              "          0.00414286, -0.14377183],\n",
              "        [ 0.05880705, -0.06086225, -0.11248284, ..., -0.0714141 ,\n",
              "         -0.07027501, -0.02057046],\n",
              "        ...,\n",
              "        [-0.08959706,  0.01365274, -0.30913538, ...,  0.1024592 ,\n",
              "          0.34042633,  0.08647086],\n",
              "        [-0.1701711 , -0.12575644, -0.12474246, ..., -0.00613262,\n",
              "         -0.22065853, -0.00127128],\n",
              "        [-0.44886774, -0.25399402, -0.29732817, ...,  0.11504794,\n",
              "         -0.05515593, -0.05687188]], dtype=float32),\n",
              " array([-0.0944363 , -0.513373  ,  0.15255927,  0.4120776 , -0.3550879 ,\n",
              "        -0.02789871,  0.16610926,  0.20211782,  0.15323004, -0.46808237],\n",
              "       dtype=float32)]"
            ]
          },
          "metadata": {},
          "execution_count": 29
        }
      ]
    },
    {
      "cell_type": "markdown",
      "source": [
        "**Testing**"
      ],
      "metadata": {
        "id": "hrdrUBr---jZ"
      }
    },
    {
      "cell_type": "code",
      "source": [
        "import numpy as np"
      ],
      "metadata": {
        "id": "RPz38csSDyP-"
      },
      "execution_count": null,
      "outputs": []
    },
    {
      "cell_type": "code",
      "source": [
        "y_pred=np.argmax(model.predict(X_test),axis=1)\n",
        "y_pred"
      ],
      "metadata": {
        "colab": {
          "base_uri": "https://localhost:8080/"
        },
        "id": "sCotjByzDclh",
        "outputId": "5cdbb221-a600-4e9e-f55c-097dc31a2694"
      },
      "execution_count": null,
      "outputs": [
        {
          "output_type": "execute_result",
          "data": {
            "text/plain": [
              "array([9, 2, 1, ..., 8, 1, 5])"
            ]
          },
          "metadata": {},
          "execution_count": 31
        }
      ]
    },
    {
      "cell_type": "code",
      "source": [
        "y_test"
      ],
      "metadata": {
        "colab": {
          "base_uri": "https://localhost:8080/"
        },
        "id": "bof5KjiKDlu3",
        "outputId": "613f6ff8-8dd5-441f-ae92-205f2a3f78d0"
      },
      "execution_count": null,
      "outputs": [
        {
          "output_type": "execute_result",
          "data": {
            "text/plain": [
              "array([9, 2, 1, ..., 8, 1, 5], dtype=uint8)"
            ]
          },
          "metadata": {},
          "execution_count": 32
        }
      ]
    },
    {
      "cell_type": "code",
      "source": [
        "from sklearn.metrics import accuracy_score,confusion_matrix\n",
        "accuracy_score(y_test,y_pred)"
      ],
      "metadata": {
        "colab": {
          "base_uri": "https://localhost:8080/"
        },
        "id": "i9JxS25DD-cz",
        "outputId": "da7ae7a0-f363-4d4e-bdea-e38c4e0c5e5a"
      },
      "execution_count": null,
      "outputs": [
        {
          "output_type": "execute_result",
          "data": {
            "text/plain": [
              "0.8869"
            ]
          },
          "metadata": {},
          "execution_count": 33
        }
      ]
    },
    {
      "cell_type": "code",
      "source": [
        "confusion_matrix(y_test,y_pred)"
      ],
      "metadata": {
        "colab": {
          "base_uri": "https://localhost:8080/"
        },
        "id": "xZgoMHvtEETT",
        "outputId": "3a504ebe-78c0-48f1-8d69-a19a4667ab87"
      },
      "execution_count": null,
      "outputs": [
        {
          "output_type": "execute_result",
          "data": {
            "text/plain": [
              "array([[806,   0,   7,  52,   2,   0, 119,   0,  14,   0],\n",
              "       [  2, 968,   1,  19,   4,   0,   5,   0,   1,   0],\n",
              "       [ 19,   0, 740,  19, 148,   1,  66,   0,   7,   0],\n",
              "       [  8,   1,   6, 957,  11,   0,  12,   0,   5,   0],\n",
              "       [  2,   0,  51,  55, 846,   0,  42,   0,   4,   0],\n",
              "       [  0,   0,   0,   0,   0, 965,   0,  19,   1,  15],\n",
              "       [ 98,   0,  65,  47, 103,   0, 674,   0,  13,   0],\n",
              "       [  0,   0,   0,   0,   0,   8,   0, 972,   1,  19],\n",
              "       [  3,   0,   0,   6,   1,   2,   1,   2, 985,   0],\n",
              "       [  0,   0,   0,   0,   0,   5,   1,  38,   0, 956]])"
            ]
          },
          "metadata": {},
          "execution_count": 34
        }
      ]
    },
    {
      "cell_type": "code",
      "source": [
        "import pandas as pd\n",
        "pd.DataFrame(confusion_matrix(y_test,y_pred))"
      ],
      "metadata": {
        "colab": {
          "base_uri": "https://localhost:8080/",
          "height": 363
        },
        "id": "AV90nHsIEU--",
        "outputId": "d3d2d012-e7fe-457f-c1ad-bce9ab2e679b"
      },
      "execution_count": null,
      "outputs": [
        {
          "output_type": "execute_result",
          "data": {
            "text/plain": [
              "     0    1    2    3    4    5    6    7    8    9\n",
              "0  806    0    7   52    2    0  119    0   14    0\n",
              "1    2  968    1   19    4    0    5    0    1    0\n",
              "2   19    0  740   19  148    1   66    0    7    0\n",
              "3    8    1    6  957   11    0   12    0    5    0\n",
              "4    2    0   51   55  846    0   42    0    4    0\n",
              "5    0    0    0    0    0  965    0   19    1   15\n",
              "6   98    0   65   47  103    0  674    0   13    0\n",
              "7    0    0    0    0    0    8    0  972    1   19\n",
              "8    3    0    0    6    1    2    1    2  985    0\n",
              "9    0    0    0    0    0    5    1   38    0  956"
            ],
            "text/html": [
              "\n",
              "  <div id=\"df-b044f2de-6cf8-422b-b1be-49c27261f399\">\n",
              "    <div class=\"colab-df-container\">\n",
              "      <div>\n",
              "<style scoped>\n",
              "    .dataframe tbody tr th:only-of-type {\n",
              "        vertical-align: middle;\n",
              "    }\n",
              "\n",
              "    .dataframe tbody tr th {\n",
              "        vertical-align: top;\n",
              "    }\n",
              "\n",
              "    .dataframe thead th {\n",
              "        text-align: right;\n",
              "    }\n",
              "</style>\n",
              "<table border=\"1\" class=\"dataframe\">\n",
              "  <thead>\n",
              "    <tr style=\"text-align: right;\">\n",
              "      <th></th>\n",
              "      <th>0</th>\n",
              "      <th>1</th>\n",
              "      <th>2</th>\n",
              "      <th>3</th>\n",
              "      <th>4</th>\n",
              "      <th>5</th>\n",
              "      <th>6</th>\n",
              "      <th>7</th>\n",
              "      <th>8</th>\n",
              "      <th>9</th>\n",
              "    </tr>\n",
              "  </thead>\n",
              "  <tbody>\n",
              "    <tr>\n",
              "      <th>0</th>\n",
              "      <td>806</td>\n",
              "      <td>0</td>\n",
              "      <td>7</td>\n",
              "      <td>52</td>\n",
              "      <td>2</td>\n",
              "      <td>0</td>\n",
              "      <td>119</td>\n",
              "      <td>0</td>\n",
              "      <td>14</td>\n",
              "      <td>0</td>\n",
              "    </tr>\n",
              "    <tr>\n",
              "      <th>1</th>\n",
              "      <td>2</td>\n",
              "      <td>968</td>\n",
              "      <td>1</td>\n",
              "      <td>19</td>\n",
              "      <td>4</td>\n",
              "      <td>0</td>\n",
              "      <td>5</td>\n",
              "      <td>0</td>\n",
              "      <td>1</td>\n",
              "      <td>0</td>\n",
              "    </tr>\n",
              "    <tr>\n",
              "      <th>2</th>\n",
              "      <td>19</td>\n",
              "      <td>0</td>\n",
              "      <td>740</td>\n",
              "      <td>19</td>\n",
              "      <td>148</td>\n",
              "      <td>1</td>\n",
              "      <td>66</td>\n",
              "      <td>0</td>\n",
              "      <td>7</td>\n",
              "      <td>0</td>\n",
              "    </tr>\n",
              "    <tr>\n",
              "      <th>3</th>\n",
              "      <td>8</td>\n",
              "      <td>1</td>\n",
              "      <td>6</td>\n",
              "      <td>957</td>\n",
              "      <td>11</td>\n",
              "      <td>0</td>\n",
              "      <td>12</td>\n",
              "      <td>0</td>\n",
              "      <td>5</td>\n",
              "      <td>0</td>\n",
              "    </tr>\n",
              "    <tr>\n",
              "      <th>4</th>\n",
              "      <td>2</td>\n",
              "      <td>0</td>\n",
              "      <td>51</td>\n",
              "      <td>55</td>\n",
              "      <td>846</td>\n",
              "      <td>0</td>\n",
              "      <td>42</td>\n",
              "      <td>0</td>\n",
              "      <td>4</td>\n",
              "      <td>0</td>\n",
              "    </tr>\n",
              "    <tr>\n",
              "      <th>5</th>\n",
              "      <td>0</td>\n",
              "      <td>0</td>\n",
              "      <td>0</td>\n",
              "      <td>0</td>\n",
              "      <td>0</td>\n",
              "      <td>965</td>\n",
              "      <td>0</td>\n",
              "      <td>19</td>\n",
              "      <td>1</td>\n",
              "      <td>15</td>\n",
              "    </tr>\n",
              "    <tr>\n",
              "      <th>6</th>\n",
              "      <td>98</td>\n",
              "      <td>0</td>\n",
              "      <td>65</td>\n",
              "      <td>47</td>\n",
              "      <td>103</td>\n",
              "      <td>0</td>\n",
              "      <td>674</td>\n",
              "      <td>0</td>\n",
              "      <td>13</td>\n",
              "      <td>0</td>\n",
              "    </tr>\n",
              "    <tr>\n",
              "      <th>7</th>\n",
              "      <td>0</td>\n",
              "      <td>0</td>\n",
              "      <td>0</td>\n",
              "      <td>0</td>\n",
              "      <td>0</td>\n",
              "      <td>8</td>\n",
              "      <td>0</td>\n",
              "      <td>972</td>\n",
              "      <td>1</td>\n",
              "      <td>19</td>\n",
              "    </tr>\n",
              "    <tr>\n",
              "      <th>8</th>\n",
              "      <td>3</td>\n",
              "      <td>0</td>\n",
              "      <td>0</td>\n",
              "      <td>6</td>\n",
              "      <td>1</td>\n",
              "      <td>2</td>\n",
              "      <td>1</td>\n",
              "      <td>2</td>\n",
              "      <td>985</td>\n",
              "      <td>0</td>\n",
              "    </tr>\n",
              "    <tr>\n",
              "      <th>9</th>\n",
              "      <td>0</td>\n",
              "      <td>0</td>\n",
              "      <td>0</td>\n",
              "      <td>0</td>\n",
              "      <td>0</td>\n",
              "      <td>5</td>\n",
              "      <td>1</td>\n",
              "      <td>38</td>\n",
              "      <td>0</td>\n",
              "      <td>956</td>\n",
              "    </tr>\n",
              "  </tbody>\n",
              "</table>\n",
              "</div>\n",
              "      <button class=\"colab-df-convert\" onclick=\"convertToInteractive('df-b044f2de-6cf8-422b-b1be-49c27261f399')\"\n",
              "              title=\"Convert this dataframe to an interactive table.\"\n",
              "              style=\"display:none;\">\n",
              "        \n",
              "  <svg xmlns=\"http://www.w3.org/2000/svg\" height=\"24px\"viewBox=\"0 0 24 24\"\n",
              "       width=\"24px\">\n",
              "    <path d=\"M0 0h24v24H0V0z\" fill=\"none\"/>\n",
              "    <path d=\"M18.56 5.44l.94 2.06.94-2.06 2.06-.94-2.06-.94-.94-2.06-.94 2.06-2.06.94zm-11 1L8.5 8.5l.94-2.06 2.06-.94-2.06-.94L8.5 2.5l-.94 2.06-2.06.94zm10 10l.94 2.06.94-2.06 2.06-.94-2.06-.94-.94-2.06-.94 2.06-2.06.94z\"/><path d=\"M17.41 7.96l-1.37-1.37c-.4-.4-.92-.59-1.43-.59-.52 0-1.04.2-1.43.59L10.3 9.45l-7.72 7.72c-.78.78-.78 2.05 0 2.83L4 21.41c.39.39.9.59 1.41.59.51 0 1.02-.2 1.41-.59l7.78-7.78 2.81-2.81c.8-.78.8-2.07 0-2.86zM5.41 20L4 18.59l7.72-7.72 1.47 1.35L5.41 20z\"/>\n",
              "  </svg>\n",
              "      </button>\n",
              "      \n",
              "  <style>\n",
              "    .colab-df-container {\n",
              "      display:flex;\n",
              "      flex-wrap:wrap;\n",
              "      gap: 12px;\n",
              "    }\n",
              "\n",
              "    .colab-df-convert {\n",
              "      background-color: #E8F0FE;\n",
              "      border: none;\n",
              "      border-radius: 50%;\n",
              "      cursor: pointer;\n",
              "      display: none;\n",
              "      fill: #1967D2;\n",
              "      height: 32px;\n",
              "      padding: 0 0 0 0;\n",
              "      width: 32px;\n",
              "    }\n",
              "\n",
              "    .colab-df-convert:hover {\n",
              "      background-color: #E2EBFA;\n",
              "      box-shadow: 0px 1px 2px rgba(60, 64, 67, 0.3), 0px 1px 3px 1px rgba(60, 64, 67, 0.15);\n",
              "      fill: #174EA6;\n",
              "    }\n",
              "\n",
              "    [theme=dark] .colab-df-convert {\n",
              "      background-color: #3B4455;\n",
              "      fill: #D2E3FC;\n",
              "    }\n",
              "\n",
              "    [theme=dark] .colab-df-convert:hover {\n",
              "      background-color: #434B5C;\n",
              "      box-shadow: 0px 1px 3px 1px rgba(0, 0, 0, 0.15);\n",
              "      filter: drop-shadow(0px 1px 2px rgba(0, 0, 0, 0.3));\n",
              "      fill: #FFFFFF;\n",
              "    }\n",
              "  </style>\n",
              "\n",
              "      <script>\n",
              "        const buttonEl =\n",
              "          document.querySelector('#df-b044f2de-6cf8-422b-b1be-49c27261f399 button.colab-df-convert');\n",
              "        buttonEl.style.display =\n",
              "          google.colab.kernel.accessAllowed ? 'block' : 'none';\n",
              "\n",
              "        async function convertToInteractive(key) {\n",
              "          const element = document.querySelector('#df-b044f2de-6cf8-422b-b1be-49c27261f399');\n",
              "          const dataTable =\n",
              "            await google.colab.kernel.invokeFunction('convertToInteractive',\n",
              "                                                     [key], {});\n",
              "          if (!dataTable) return;\n",
              "\n",
              "          const docLinkHtml = 'Like what you see? Visit the ' +\n",
              "            '<a target=\"_blank\" href=https://colab.research.google.com/notebooks/data_table.ipynb>data table notebook</a>'\n",
              "            + ' to learn more about interactive tables.';\n",
              "          element.innerHTML = '';\n",
              "          dataTable['output_type'] = 'display_data';\n",
              "          await google.colab.output.renderOutput(dataTable, element);\n",
              "          const docLink = document.createElement('div');\n",
              "          docLink.innerHTML = docLinkHtml;\n",
              "          element.appendChild(docLink);\n",
              "        }\n",
              "      </script>\n",
              "    </div>\n",
              "  </div>\n",
              "  "
            ]
          },
          "metadata": {},
          "execution_count": 35
        }
      ]
    },
    {
      "cell_type": "code",
      "source": [
        "model.save('FASHION_MNIST.hdf5')"
      ],
      "metadata": {
        "id": "TA5eu5rUEdEt"
      },
      "execution_count": null,
      "outputs": []
    },
    {
      "cell_type": "markdown",
      "source": [
        "Creating an app to test"
      ],
      "metadata": {
        "id": "JTIyE_k4_aH4"
      }
    },
    {
      "cell_type": "code",
      "source": [
        "!pip install streamlit==0.83.0 --quiet\n",
        "!pip install streamlit-drawable-canvas --quiet"
      ],
      "metadata": {
        "id": "KWqRobCLE9_c",
        "colab": {
          "base_uri": "https://localhost:8080/"
        },
        "outputId": "0bbdb712-f888-4098-f455-2bb1177e4160"
      },
      "execution_count": null,
      "outputs": [
        {
          "output_type": "stream",
          "name": "stdout",
          "text": [
            "\u001b[K     |████████████████████████████████| 7.7 MB 5.4 MB/s \n",
            "\u001b[K     |████████████████████████████████| 78 kB 6.5 MB/s \n",
            "\u001b[K     |████████████████████████████████| 4.3 MB 46.4 MB/s \n",
            "\u001b[K     |████████████████████████████████| 181 kB 46.9 MB/s \n",
            "\u001b[K     |████████████████████████████████| 132 kB 65.4 MB/s \n",
            "\u001b[K     |████████████████████████████████| 423 kB 65.6 MB/s \n",
            "\u001b[K     |████████████████████████████████| 132 kB 66.5 MB/s \n",
            "\u001b[K     |████████████████████████████████| 793 kB 59.3 MB/s \n",
            "\u001b[K     |████████████████████████████████| 381 kB 70.3 MB/s \n",
            "\u001b[K     |████████████████████████████████| 63 kB 1.2 MB/s \n",
            "\u001b[?25h  Building wheel for validators (setup.py) ... \u001b[?25l\u001b[?25hdone\n",
            "\u001b[31mERROR: pip's dependency resolver does not currently take into account all the packages that are installed. This behaviour is the source of the following dependency conflicts.\n",
            "nbclient 0.6.6 requires traitlets>=5.2.2, but you have traitlets 5.1.1 which is incompatible.\n",
            "jupyter-console 5.2.0 requires prompt-toolkit<2.0.0,>=1.0.0, but you have prompt-toolkit 3.0.30 which is incompatible.\n",
            "google-colab 1.0.0 requires ipykernel~=4.10, but you have ipykernel 6.15.1 which is incompatible.\n",
            "google-colab 1.0.0 requires ipython~=5.5.0, but you have ipython 7.34.0 which is incompatible.\n",
            "google-colab 1.0.0 requires tornado~=5.1.0, but you have tornado 6.2 which is incompatible.\u001b[0m\n",
            "\u001b[K     |████████████████████████████████| 1.1 MB 5.2 MB/s \n",
            "\u001b[?25h"
          ]
        }
      ]
    },
    {
      "cell_type": "code",
      "source": [
        "%%writefile app.py\n",
        "import streamlit as st\n",
        "import numpy as np\n",
        "from streamlit_drawable_canvas import st_canvas\n",
        "from tensorflow import keras\n",
        "import cv2\n",
        "model=keras.models.load_model('FASHION_MNIST.hdf5',compile=False)\n",
        "st.title(\"FASHION MNIST Image Classification using ANN\")\n",
        "st.subheader(\"Draw the handwritten digit in the below given space and click on PREDICT\")\n",
        "col1,col2=st.beta_columns(2)\n",
        "with col1:\n",
        "  st.write(\"Original Image\")\n",
        "  canvas_result=st_canvas(fill_color='#000000',stroke_width=20,stroke_color='#2121b0',background_color='#000000',width=255,height=255,drawing_mode=\"freedraw\")\n",
        "with col2:\n",
        "  if canvas_result.image_data is not None:\n",
        "    img=cv2.resize(canvas_result.image_data.astype('uint8'),(28,28))\n",
        "    rescaled=cv2.resize(img,(255,255))\n",
        "    st.write('Rescaled Image')\n",
        "    st.image(rescaled)\n",
        "  if st.button('PREDICT'):\n",
        "    test_x=cv2.cvtColor(img,cv2.COLOR_BGR2GRAY)\n",
        "    test_x=np.expand_dims(test_x,axis=0)\n",
        "    val=model.predict(test_x)\n",
        "    st.title(f'Result: {np.argmax(val[0])}')\n",
        "    st.bar_chart(val[0])"
      ],
      "metadata": {
        "colab": {
          "base_uri": "https://localhost:8080/"
        },
        "id": "1S5Fg2YLFEMc",
        "outputId": "cfb9f692-d64e-4b68-e56c-4e09f1a247c6"
      },
      "execution_count": null,
      "outputs": [
        {
          "output_type": "stream",
          "name": "stdout",
          "text": [
            "Writing app.py\n"
          ]
        }
      ]
    },
    {
      "cell_type": "code",
      "source": [
        "!streamlit run app.py & npx localtunnel --port 8501"
      ],
      "metadata": {
        "id": "wfkaQHC8FjZE",
        "colab": {
          "base_uri": "https://localhost:8080/"
        },
        "outputId": "66fbd667-594f-48fc-c748-c4e13c93ec29"
      },
      "execution_count": null,
      "outputs": [
        {
          "output_type": "stream",
          "name": "stdout",
          "text": [
            "2022-07-21 14:35:36.633 INFO    numexpr.utils: NumExpr defaulting to 2 threads.\n",
            "\u001b[0m\n",
            "\u001b[34m\u001b[1m  You can now view your Streamlit app in your browser.\u001b[0m\n",
            "\u001b[0m\n",
            "\u001b[34m  Network URL: \u001b[0m\u001b[1mhttp://172.28.0.2:8501\u001b[0m\n",
            "\u001b[34m  External URL: \u001b[0m\u001b[1mhttp://35.196.167.51:8501\u001b[0m\n",
            "\u001b[0m\n",
            "\u001b[K\u001b[?25hnpx: installed 22 in 4.204s\n",
            "2022-07-21 14:35:42.663658: W tensorflow/core/common_runtime/gpu/gpu_bfc_allocator.cc:39] Overriding allow_growth setting because the TF_FORCE_GPU_ALLOW_GROWTH environment variable is set. Original config value was 0.\n",
            "\u001b[34m  Stopping...\u001b[0m\n",
            "^C\n"
          ]
        }
      ]
    },
    {
      "cell_type": "markdown",
      "source": [
        "# CNN MODEL"
      ],
      "metadata": {
        "id": "LsTDOH6ZQmtr"
      }
    },
    {
      "cell_type": "code",
      "source": [
        "import numpy as np\n",
        "from tensorflow import keras\n",
        "from tensorflow.keras import layers"
      ],
      "metadata": {
        "id": "AFacHz1jQW9U"
      },
      "execution_count": null,
      "outputs": []
    },
    {
      "cell_type": "code",
      "source": [
        "num_classes = 10\n",
        "input_shape = (28, 28, 1)"
      ],
      "metadata": {
        "id": "g4x90jbsQZSu"
      },
      "execution_count": null,
      "outputs": []
    },
    {
      "cell_type": "code",
      "source": [
        "(X_train, y_train), (X_test, y_test) = keras.datasets.fashion_mnist.load_data()"
      ],
      "metadata": {
        "id": "MNInrA2mQeNQ"
      },
      "execution_count": null,
      "outputs": []
    },
    {
      "cell_type": "code",
      "source": [
        "X_train = X_train.astype(\"float32\") / 255\n",
        "X_test = X_test.astype(\"float32\") / 255"
      ],
      "metadata": {
        "id": "5fjsL0_RQgxb"
      },
      "execution_count": null,
      "outputs": []
    },
    {
      "cell_type": "code",
      "source": [
        "X_train = np.expand_dims(X_train, -1)\n",
        "X_test = np.expand_dims(X_test, -1)"
      ],
      "metadata": {
        "id": "Gd_yUFaMQltR"
      },
      "execution_count": null,
      "outputs": []
    },
    {
      "cell_type": "code",
      "source": [
        "print(\"X_train shape:\", X_train.shape)\n",
        "print(X_train.shape[0], \"train samples\")\n",
        "print(X_test.shape[0], \"test samples\")"
      ],
      "metadata": {
        "colab": {
          "base_uri": "https://localhost:8080/"
        },
        "id": "Mptk7hwnQsH-",
        "outputId": "7970070f-f1f8-4f31-81b2-4b05f94cc26d"
      },
      "execution_count": null,
      "outputs": [
        {
          "output_type": "stream",
          "name": "stdout",
          "text": [
            "X_train shape: (60000, 28, 28, 1)\n",
            "60000 train samples\n",
            "10000 test samples\n"
          ]
        }
      ]
    },
    {
      "cell_type": "code",
      "source": [
        "y_train = keras.utils.to_categorical(y_train, num_classes)\n",
        "y_test = keras.utils.to_categorical(y_test, num_classes)"
      ],
      "metadata": {
        "id": "q73yaCTQQumd"
      },
      "execution_count": null,
      "outputs": []
    },
    {
      "cell_type": "code",
      "source": [
        "model = keras.Sequential(\n",
        "    [\n",
        "        keras.Input(shape=input_shape),\n",
        "        layers.Conv2D(32, kernel_size=(3, 3), activation=\"relu\"),\n",
        "        layers.MaxPooling2D(pool_size=(2, 2)),\n",
        "        layers.Conv2D(64, kernel_size=(3, 3), activation=\"relu\"),\n",
        "        layers.MaxPooling2D(pool_size=(2, 2)),\n",
        "        layers.Flatten(),\n",
        "        layers.Dropout(0.5),\n",
        "        layers.Dense(num_classes, activation=\"softmax\"),\n",
        "    ]\n",
        ")\n",
        "\n",
        "model.summary()"
      ],
      "metadata": {
        "id": "-nve6t0HRCJV",
        "colab": {
          "base_uri": "https://localhost:8080/"
        },
        "outputId": "bf6463f2-fee1-4de0-a453-460bcb502212"
      },
      "execution_count": null,
      "outputs": [
        {
          "output_type": "stream",
          "name": "stdout",
          "text": [
            "Model: \"sequential_2\"\n",
            "_________________________________________________________________\n",
            " Layer (type)                Output Shape              Param #   \n",
            "=================================================================\n",
            " conv2d_2 (Conv2D)           (None, 26, 26, 32)        320       \n",
            "                                                                 \n",
            " max_pooling2d_2 (MaxPooling  (None, 13, 13, 32)       0         \n",
            " 2D)                                                             \n",
            "                                                                 \n",
            " conv2d_3 (Conv2D)           (None, 11, 11, 64)        18496     \n",
            "                                                                 \n",
            " max_pooling2d_3 (MaxPooling  (None, 5, 5, 64)         0         \n",
            " 2D)                                                             \n",
            "                                                                 \n",
            " flatten_2 (Flatten)         (None, 1600)              0         \n",
            "                                                                 \n",
            " dropout_1 (Dropout)         (None, 1600)              0         \n",
            "                                                                 \n",
            " dense_3 (Dense)             (None, 10)                16010     \n",
            "                                                                 \n",
            "=================================================================\n",
            "Total params: 34,826\n",
            "Trainable params: 34,826\n",
            "Non-trainable params: 0\n",
            "_________________________________________________________________\n"
          ]
        }
      ]
    },
    {
      "cell_type": "code",
      "source": [
        "batch_size = 128\n",
        "epochs = 15\n",
        "\n",
        "model.compile(loss=\"categorical_crossentropy\", optimizer=\"adam\", metrics=[\"accuracy\"])\n",
        "\n",
        "model.fit(X_train, y_train, batch_size=batch_size, epochs=epochs, validation_split=0.1)"
      ],
      "metadata": {
        "colab": {
          "base_uri": "https://localhost:8080/"
        },
        "id": "-hfLDTSNQkA_",
        "outputId": "209620f3-b2d9-4ac3-c145-27bf63e48ce7"
      },
      "execution_count": null,
      "outputs": [
        {
          "output_type": "stream",
          "name": "stdout",
          "text": [
            "Epoch 1/15\n",
            "422/422 [==============================] - 3s 6ms/step - loss: 0.6776 - accuracy: 0.7565 - val_loss: 0.4299 - val_accuracy: 0.8445\n",
            "Epoch 2/15\n",
            "422/422 [==============================] - 2s 5ms/step - loss: 0.4417 - accuracy: 0.8417 - val_loss: 0.3793 - val_accuracy: 0.8592\n",
            "Epoch 3/15\n",
            "422/422 [==============================] - 3s 8ms/step - loss: 0.3983 - accuracy: 0.8576 - val_loss: 0.3515 - val_accuracy: 0.8733\n",
            "Epoch 4/15\n",
            "422/422 [==============================] - 3s 8ms/step - loss: 0.3698 - accuracy: 0.8669 - val_loss: 0.3258 - val_accuracy: 0.8813\n",
            "Epoch 5/15\n",
            "422/422 [==============================] - 3s 8ms/step - loss: 0.3499 - accuracy: 0.8748 - val_loss: 0.3156 - val_accuracy: 0.8860\n",
            "Epoch 6/15\n",
            "422/422 [==============================] - 3s 8ms/step - loss: 0.3321 - accuracy: 0.8805 - val_loss: 0.3025 - val_accuracy: 0.8905\n",
            "Epoch 7/15\n",
            "422/422 [==============================] - 3s 8ms/step - loss: 0.3208 - accuracy: 0.8830 - val_loss: 0.2972 - val_accuracy: 0.8912\n",
            "Epoch 8/15\n",
            "422/422 [==============================] - 4s 9ms/step - loss: 0.3103 - accuracy: 0.8886 - val_loss: 0.2864 - val_accuracy: 0.8972\n",
            "Epoch 9/15\n",
            "422/422 [==============================] - 3s 8ms/step - loss: 0.3031 - accuracy: 0.8901 - val_loss: 0.2856 - val_accuracy: 0.8972\n",
            "Epoch 10/15\n",
            "422/422 [==============================] - 3s 7ms/step - loss: 0.2955 - accuracy: 0.8924 - val_loss: 0.2741 - val_accuracy: 0.8998\n",
            "Epoch 11/15\n",
            "422/422 [==============================] - 2s 5ms/step - loss: 0.2875 - accuracy: 0.8953 - val_loss: 0.2682 - val_accuracy: 0.9025\n",
            "Epoch 12/15\n",
            "422/422 [==============================] - 2s 5ms/step - loss: 0.2819 - accuracy: 0.8980 - val_loss: 0.2627 - val_accuracy: 0.9042\n",
            "Epoch 13/15\n",
            "422/422 [==============================] - 2s 5ms/step - loss: 0.2779 - accuracy: 0.8989 - val_loss: 0.2602 - val_accuracy: 0.9055\n",
            "Epoch 14/15\n",
            "422/422 [==============================] - 2s 5ms/step - loss: 0.2715 - accuracy: 0.9016 - val_loss: 0.2535 - val_accuracy: 0.9078\n",
            "Epoch 15/15\n",
            "422/422 [==============================] - 2s 5ms/step - loss: 0.2656 - accuracy: 0.9032 - val_loss: 0.2555 - val_accuracy: 0.9075\n"
          ]
        },
        {
          "output_type": "execute_result",
          "data": {
            "text/plain": [
              "<keras.callbacks.History at 0x7f62240738d0>"
            ]
          },
          "metadata": {},
          "execution_count": 48
        }
      ]
    },
    {
      "cell_type": "markdown",
      "source": [
        "Testing"
      ],
      "metadata": {
        "id": "g3sSKaL1_zv4"
      }
    },
    {
      "cell_type": "code",
      "source": [
        "score=model.evaluate(X_test,y_test,verbose=0)\n",
        "print(\"Test loss:\",score[0])\n",
        "print(\"Test accuracy:\",score[1])"
      ],
      "metadata": {
        "colab": {
          "base_uri": "https://localhost:8080/"
        },
        "id": "rINLus4WTcSE",
        "outputId": "bcf807fb-9f8b-4a00-eb9d-f9b9368000d0"
      },
      "execution_count": null,
      "outputs": [
        {
          "output_type": "stream",
          "name": "stdout",
          "text": [
            "Test loss: 0.2768879234790802\n",
            "Test accuracy: 0.8991000056266785\n"
          ]
        }
      ]
    }
  ]
}